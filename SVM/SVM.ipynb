{
 "cells": [
  {
   "cell_type": "code",
   "execution_count": 1,
   "metadata": {},
   "outputs": [],
   "source": [
    "import pandas as pd\n",
    "import numpy as np\n",
    "import matplotlib.pyplot as plt\n",
    "from sklearn.model_selection import train_test_split"
   ]
  },
  {
   "cell_type": "markdown",
   "metadata": {},
   "source": [
    "## Read and Explore"
   ]
  },
  {
   "cell_type": "code",
   "execution_count": 2,
   "metadata": {},
   "outputs": [
    {
     "data": {
      "text/html": [
       "<div>\n",
       "<style scoped>\n",
       "    .dataframe tbody tr th:only-of-type {\n",
       "        vertical-align: middle;\n",
       "    }\n",
       "\n",
       "    .dataframe tbody tr th {\n",
       "        vertical-align: top;\n",
       "    }\n",
       "\n",
       "    .dataframe thead th {\n",
       "        text-align: right;\n",
       "    }\n",
       "</style>\n",
       "<table border=\"1\" class=\"dataframe\">\n",
       "  <thead>\n",
       "    <tr style=\"text-align: right;\">\n",
       "      <th></th>\n",
       "      <th>age</th>\n",
       "      <th>workclass</th>\n",
       "      <th>fnlwgt</th>\n",
       "      <th>education</th>\n",
       "      <th>education-num</th>\n",
       "      <th>marital-status</th>\n",
       "      <th>occupation</th>\n",
       "      <th>relationship</th>\n",
       "      <th>race</th>\n",
       "      <th>sex</th>\n",
       "      <th>capital-gain</th>\n",
       "      <th>capital-loss</th>\n",
       "      <th>hours-per-week</th>\n",
       "      <th>native-country</th>\n",
       "      <th>income</th>\n",
       "    </tr>\n",
       "  </thead>\n",
       "  <tbody>\n",
       "    <tr>\n",
       "      <th>0</th>\n",
       "      <td>34</td>\n",
       "      <td>Private</td>\n",
       "      <td>287315</td>\n",
       "      <td>HS-grad</td>\n",
       "      <td>9</td>\n",
       "      <td>Divorced</td>\n",
       "      <td>Machine-op-inspct</td>\n",
       "      <td>Not-in-family</td>\n",
       "      <td>White</td>\n",
       "      <td>Male</td>\n",
       "      <td>0</td>\n",
       "      <td>0</td>\n",
       "      <td>40</td>\n",
       "      <td>United-States</td>\n",
       "      <td>&lt;=50K</td>\n",
       "    </tr>\n",
       "    <tr>\n",
       "      <th>1</th>\n",
       "      <td>43</td>\n",
       "      <td>Federal-gov</td>\n",
       "      <td>145175</td>\n",
       "      <td>Bachelors</td>\n",
       "      <td>13</td>\n",
       "      <td>Married-civ-spouse</td>\n",
       "      <td>Adm-clerical</td>\n",
       "      <td>Husband</td>\n",
       "      <td>White</td>\n",
       "      <td>Male</td>\n",
       "      <td>0</td>\n",
       "      <td>0</td>\n",
       "      <td>42</td>\n",
       "      <td>United-States</td>\n",
       "      <td>&gt;50K</td>\n",
       "    </tr>\n",
       "    <tr>\n",
       "      <th>2</th>\n",
       "      <td>45</td>\n",
       "      <td>Local-gov</td>\n",
       "      <td>33798</td>\n",
       "      <td>Masters</td>\n",
       "      <td>14</td>\n",
       "      <td>Never-married</td>\n",
       "      <td>Prof-specialty</td>\n",
       "      <td>Not-in-family</td>\n",
       "      <td>White</td>\n",
       "      <td>Female</td>\n",
       "      <td>0</td>\n",
       "      <td>0</td>\n",
       "      <td>40</td>\n",
       "      <td>United-States</td>\n",
       "      <td>&lt;=50K</td>\n",
       "    </tr>\n",
       "    <tr>\n",
       "      <th>3</th>\n",
       "      <td>23</td>\n",
       "      <td>Private</td>\n",
       "      <td>180497</td>\n",
       "      <td>Bachelors</td>\n",
       "      <td>13</td>\n",
       "      <td>Never-married</td>\n",
       "      <td>Tech-support</td>\n",
       "      <td>Own-child</td>\n",
       "      <td>Black</td>\n",
       "      <td>Female</td>\n",
       "      <td>0</td>\n",
       "      <td>0</td>\n",
       "      <td>32</td>\n",
       "      <td>United-States</td>\n",
       "      <td>&lt;=50K</td>\n",
       "    </tr>\n",
       "    <tr>\n",
       "      <th>4</th>\n",
       "      <td>65</td>\n",
       "      <td>Self-emp-not-inc</td>\n",
       "      <td>145628</td>\n",
       "      <td>10th</td>\n",
       "      <td>6</td>\n",
       "      <td>Married-civ-spouse</td>\n",
       "      <td>Craft-repair</td>\n",
       "      <td>Husband</td>\n",
       "      <td>White</td>\n",
       "      <td>Male</td>\n",
       "      <td>0</td>\n",
       "      <td>0</td>\n",
       "      <td>40</td>\n",
       "      <td>United-States</td>\n",
       "      <td>&lt;=50K</td>\n",
       "    </tr>\n",
       "  </tbody>\n",
       "</table>\n",
       "</div>"
      ],
      "text/plain": [
       "   age          workclass  fnlwgt   education  education-num  \\\n",
       "0   34            Private  287315     HS-grad              9   \n",
       "1   43        Federal-gov  145175   Bachelors             13   \n",
       "2   45          Local-gov   33798     Masters             14   \n",
       "3   23            Private  180497   Bachelors             13   \n",
       "4   65   Self-emp-not-inc  145628        10th              6   \n",
       "\n",
       "        marital-status          occupation    relationship    race      sex  \\\n",
       "0             Divorced   Machine-op-inspct   Not-in-family   White     Male   \n",
       "1   Married-civ-spouse        Adm-clerical         Husband   White     Male   \n",
       "2        Never-married      Prof-specialty   Not-in-family   White   Female   \n",
       "3        Never-married        Tech-support       Own-child   Black   Female   \n",
       "4   Married-civ-spouse        Craft-repair         Husband   White     Male   \n",
       "\n",
       "   capital-gain  capital-loss  hours-per-week  native-country  income  \n",
       "0             0             0              40   United-States   <=50K  \n",
       "1             0             0              42   United-States    >50K  \n",
       "2             0             0              40   United-States   <=50K  \n",
       "3             0             0              32   United-States   <=50K  \n",
       "4             0             0              40   United-States   <=50K  "
      ]
     },
     "execution_count": 2,
     "metadata": {},
     "output_type": "execute_result"
    }
   ],
   "source": [
    "trainData = pd.read_csv('train.txt', header=None, \n",
    "                    names=['age', 'workclass', 'fnlwgt', 'education', 'education-num',\n",
    "                           'marital-status', 'occupation', 'relationship','race',\n",
    "                          'sex', 'capital-gain', 'capital-loss', 'hours-per-week',\n",
    "                          'native-country', 'income'])\n",
    "\n",
    "testData = pd.read_csv('test.txt', header=None, \n",
    "                    names=['age', 'workclass', 'fnlwgt', 'education', 'education-num',\n",
    "                           'marital-status', 'occupation', 'relationship','race',\n",
    "                          'sex', 'capital-gain', 'capital-loss', 'hours-per-week',\n",
    "                          'native-country'])\n"
   ]
  },
  {
   "cell_type": "markdown",
   "metadata": {},
   "source": [
    "## Process"
   ]
  },
  {
   "cell_type": "code",
   "execution_count": 3,
   "metadata": {},
   "outputs": [],
   "source": [
    "# use only continous variables\n",
    "contVar = ['fnlwgt', 'education-num',\n",
    "            'capital-gain','capital-loss', 'hours-per-week', 'income']\n",
    "train = trainData[contVar]\n",
    "test = testData[contVar[:-1]]\n",
    "\n",
    "# target: income change ' <=50K' and ' >50K' into -1 and 1\n",
    "labels = np.where(train.income == ' <=50K', -1, 1)\n",
    "train = train.drop('income', axis=1)"
   ]
  },
  {
   "cell_type": "code",
   "execution_count": 4,
   "metadata": {},
   "outputs": [],
   "source": [
    "# unit variance, zero-mean scaling\n",
    "scaleTrain = (train-train.mean())/train.std()\n",
    "scaleTest = (test-test.mean())/test.std()"
   ]
  },
  {
   "cell_type": "markdown",
   "metadata": {},
   "source": [
    "## Batch"
   ]
  },
  {
   "cell_type": "code",
   "execution_count": 164,
   "metadata": {},
   "outputs": [],
   "source": [
    "def svm(a, b, x, y, reg = 1e-2, n=1000, m=0.05, epoch = 1):\n",
    "    accuracies = []\n",
    "\n",
    "    # select batch\n",
    "    train, _, labels, _ = train_test_split(x, y, test_size=300)\n",
    "\n",
    "    # predict and concat with zero column\n",
    "    pred = (np.dot(train, a) + b)*labels\n",
    "    pred0 = np.vstack((1-pred, np.zeros(pred.shape)) ).T\n",
    "\n",
    "    # calculate total loss\n",
    "    loss = np.mean(np.max(pred0, axis=1))+ reg*np.dot(a, a.T)/2\n",
    "\n",
    "    # count positie, negative numbers for repeat\n",
    "    pos = np.sum(pred>=1)\n",
    "    neg = np.sum(pred<1)\n",
    "\n",
    "    # calculate gradient\n",
    "    gradientA = np.zeros((pred.shape[0], len(a) ) )\n",
    "    gradientB = np.zeros(pred.shape)\n",
    "    gradientA[pred>=1] = np.repeat(reg*a, pos).reshape(-1,5)\n",
    "    gradientA[pred<1] = (reg*a-np.multiply(labels.reshape(-1,1), train))[pred<1]\n",
    "    gradientB[pred<1] = -labels[pred<1]\n",
    "\n",
    "    # step size\n",
    "    alpha = m/(epoch+n)\n",
    "\n",
    "    # update coef\n",
    "    gradA = np.mean(gradientA, axis=0)\n",
    "    gradB = np.mean(gradientB)\n",
    "    a -= alpha*gradA\n",
    "    b -= alpha*gradB\n",
    "\n",
    "    return (a,b, accuracies)"
   ]
  },
  {
   "cell_type": "code",
   "execution_count": 214,
   "metadata": {},
   "outputs": [
    {
     "name": "stdout",
     "output_type": "stream",
     "text": [
      "reg: 0.001\n",
      "validation accuracy: 0.802547770700637\n",
      "reg: 0.01\n",
      "validation accuracy: 0.801410373066424\n",
      "reg: 0.1\n",
      "validation accuracy: 0.785031847133758\n",
      "reg: 1\n",
      "validation accuracy: 0.7700181983621474\n",
      "Wall time: 24min 30s\n"
     ]
    }
   ],
   "source": [
    "%%time\n",
    "# split validation and train set\n",
    "train, val, train_labels, val_labels = train_test_split(scaleTrain, labels, test_size=0.1)\n",
    "\n",
    "epochs = 50\n",
    "steps = 600\n",
    "n = 10000\n",
    "m = 5\n",
    "regs =  [1e-3, 1e-2, 1e-1, 1]\n",
    "accuracies = []\n",
    "coefficients = []\n",
    "# loop over reg\n",
    "for reg in regs:\n",
    "    print('reg: '+str(reg))\n",
    "    \n",
    "    # random create coef a and b\n",
    "    a = np.random.rand(train.shape[1])\n",
    "    b = np.random.rand(1)\n",
    "\n",
    "    # loop over epochs\n",
    "    for epoch in np.arange(epochs):\n",
    "\n",
    "        # seperate out 50 hold out random\n",
    "        epochData, hold, epochLabels, holdLabels = train_test_split(train, train_labels, test_size=50)\n",
    "        \n",
    "\n",
    "        # loop over steps\n",
    "        for step in np.arange(steps):\n",
    "\n",
    "            # train model\n",
    "            a, b, accuracy = svm(a, b, epochData, epochLabels, reg = reg, n=n, m=m, epoch = epoch)\n",
    "            if step % 30 ==0:\n",
    "                holdPred = np.where(np.dot(hold, a)+b >=0, 1, -1)\n",
    "                accuracy = np.mean(holdPred==holdLabels)\n",
    "                accuracies.append(accuracy)\n",
    "                coefficients.extend(a)\n",
    "                # print('iter: '+str(epoch) +', accuracy = '+str(accuracy))\n",
    "            \n",
    "        \n",
    "    # validation test\n",
    "    pred = np.dot(val, a)+b\n",
    "    pred = np.where(pred>=0, 1, -1)\n",
    "    print(\"validation accuracy: \" + str(np.mean(pred==val_labels) ) )"
   ]
  },
  {
   "cell_type": "markdown",
   "metadata": {},
   "source": [
    "## Plot"
   ]
  },
  {
   "cell_type": "code",
   "execution_count": 215,
   "metadata": {},
   "outputs": [
    {
     "data": {
      "image/png": "[encoded data removed]",
      "text/plain": [
       "<matplotlib.figure.Figure at 0x18d90d273c8>"
      ]
     },
     "metadata": {},
     "output_type": "display_data"
    }
   ],
   "source": [
    "# plot accuracy\n",
    "% matplotlib inline\n",
    "accuracies = np.array(accuracies).reshape(-1, int(epochs*steps/30))\n",
    "for accuracy in accuracies:\n",
    "    plt.plot(accuracy)\n",
    "plt.legend(regs)\n",
    "plt.title('Accuracy')\n",
    "plt.xlabel('Every 30 steps')\n",
    "plt.ylim([0,1])\n",
    "plt.show()"
   ]
  },
  {
   "cell_type": "code",
   "execution_count": 249,
   "metadata": {},
   "outputs": [
    {
     "data": {
      "image/png": "[encoded data removed]",
      "text/plain": [
       "<matplotlib.figure.Figure at 0x18d90700c50>"
      ]
     },
     "metadata": {},
     "output_type": "display_data"
    }
   ],
   "source": [
    "# calculate magnitudes\n",
    "magnitudes = np.array(coefficients).reshape(-1,5)\n",
    "magnitudes = [np.sqrt(np.dot(a, a.T)) for a in magnitudes]\n",
    "\n",
    "# plot magnitude\n",
    "% matplotlib inline\n",
    "\n",
    "magnitudes = np.array(magnitudes).reshape(-1, int(epochs*steps/30))\n",
    "for magnitude in magnitudes:\n",
    "    plt.plot(magnitude)\n",
    "plt.legend(regs)\n",
    "plt.title('Magnitude')\n",
    "plt.xlabel('Every 30 steps')\n",
    "plt.ylim()\n",
    "plt.show()"
   ]
  },
  {
   "cell_type": "markdown",
   "metadata": {},
   "source": [
    "## Predict"
   ]
  },
  {
   "cell_type": "code",
   "execution_count": 252,
   "metadata": {},
   "outputs": [],
   "source": [
    "# random create coef a and b\n",
    "a = np.random.rand(train.shape[1])\n",
    "b = np.random.rand(1)\n",
    "\n",
    "for epoch in np.arange(epochs):\n",
    "    for step in np.arange(steps):\n",
    "        # train model\n",
    "        a, b, accuracy = svm(a, b, scaleTrain, labels, reg = reg, n=n, m=m, epoch = epoch)"
   ]
  },
  {
   "cell_type": "code",
   "execution_count": 251,
   "metadata": {},
   "outputs": [],
   "source": [
    "pred = np.dot(scaleTest, a)+b\n",
    "pred = np.where(pred>=0, 1, -1)\n",
    "\n",
    "# save to text\n",
    "testLabels = np.where(pred==1, '>50K', \"<=50K\")\n",
    "np.savetxt('submission.txt',testLabels, fmt='%s')"
   ]
  },
  {
   "cell_type": "markdown",
   "metadata": {},
   "source": [
    "## Stochastic"
   ]
  },
  {
   "cell_type": "code",
   "execution_count": 154,
   "metadata": {},
   "outputs": [
    {
     "name": "stdout",
     "output_type": "stream",
     "text": [
      "[0.07414601 0.41389805 1.09909205 0.234201   0.24169258]\n",
      "iter: 0, accuracy = 0.84, step:0.0001263870984049948\n",
      "[0.02717608 0.69580001 1.13290696 0.26710634 0.37375594]\n",
      "iter: 1, accuracy = 0.84, step:0.0001263839037460189\n",
      "[0.0131387  1.07319644 1.17395887 0.34867217 0.55718575]\n",
      "iter: 2, accuracy = 0.76, step:0.00012638070924854032\n",
      "[0.00353512 1.43498834 1.22113017 0.40765093 0.74078075]\n",
      "iter: 3, accuracy = 0.82, step:0.00012637751491254676\n",
      "[0.00423621 1.7711554  1.27252699 0.45156174 0.90999617]\n",
      "iter: 4, accuracy = 0.74, step:0.00012637432073802604\n"
     ]
    }
   ],
   "source": [
    "# stochastic\n",
    "reg = 1e-3\n",
    "\n",
    "n,m = train.shape\n",
    "\n",
    "# random create coef a and b\n",
    "\n",
    "a = np.random.rand(train.shape[1])\n",
    "b = np.random.rand(1)\n",
    "\n",
    "accuracies= []\n",
    "\n",
    "for epoch in np.arange(5):\n",
    "    loss= []\n",
    "    # seperate out 50 hold out random\n",
    "    epochData, hold, epochLabels, holdLabels = train_test_split(scaleTrain, labels, test_size=50)\n",
    "    \n",
    "    for i in np.arange(train.shape[0]):\n",
    "        pred = (np.dot(epochData.iloc[i,:], a) + b)*epochLabels[i]\n",
    "        pred0 = np.append((1-pred), 0)\n",
    "        if pred >= 1:\n",
    "            gradA = reg*a\n",
    "            gradB = 0\n",
    "        else:\n",
    "            gradA = reg*a-np.dot(epochLabels[i], epochData.iloc[i,:])\n",
    "            gradB = -labels[i]\n",
    "        \n",
    "\n",
    "        # calculate individual loss\n",
    "        loss.append(np.max(pred0))\n",
    "        \n",
    "        # calculate step\n",
    "        step = m/(epoch+n)\n",
    "        \n",
    "        # update coef\n",
    "        a -= step*gradA\n",
    "        b -= step*gradB\n",
    "    \n",
    "    loss = np.mean(loss)+ reg*np.dot(a, a.T)/2\n",
    "    \n",
    "    # calculate holdout accuracy\n",
    "    holdPred = np.where(np.dot(hold, a)+b >=0, 1, -1)\n",
    "    accuracy = np.mean(holdPred==holdLabels)\n",
    "    accuracies.append(accuracy)\n",
    "    print(a)\n",
    "    print('iter: '+str(epoch) +', accuracy = '+str(accuracy) +\", step:\"+str(step))"
   ]
  }
 ],
 "metadata": {
  "kernelspec": {
   "display_name": "Python 3",
   "language": "python",
   "name": "python3"
  },
  "language_info": {
   "codemirror_mode": {
    "name": "ipython",
    "version": 3
   },
   "file_extension": ".py",
   "mimetype": "text/x-python",
   "name": "python",
   "nbconvert_exporter": "python",
   "pygments_lexer": "ipython3",
   "version": "3.6.4"
  }
 },
 "nbformat": 4,
 "nbformat_minor": 2
}
