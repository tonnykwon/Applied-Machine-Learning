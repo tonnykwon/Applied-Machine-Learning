{
 "cells": [
  {
   "cell_type": "code",
   "execution_count": 523,
   "metadata": {},
   "outputs": [],
   "source": [
    "%matplotlib inline\n",
    "import numpy as np\n",
    "import pandas as pd"
   ]
  },
  {
   "cell_type": "markdown",
   "metadata": {},
   "source": [
    "## Read"
   ]
  },
  {
   "cell_type": "code",
   "execution_count": 524,
   "metadata": {},
   "outputs": [
    {
     "data": {
      "text/html": [
       "<div>\n",
       "<style scoped>\n",
       "    .dataframe tbody tr th:only-of-type {\n",
       "        vertical-align: middle;\n",
       "    }\n",
       "\n",
       "    .dataframe tbody tr th {\n",
       "        vertical-align: top;\n",
       "    }\n",
       "\n",
       "    .dataframe thead th {\n",
       "        text-align: right;\n",
       "    }\n",
       "</style>\n",
       "<table border=\"1\" class=\"dataframe\">\n",
       "  <thead>\n",
       "    <tr style=\"text-align: right;\">\n",
       "      <th></th>\n",
       "      <th>review_id</th>\n",
       "      <th>user_id</th>\n",
       "      <th>business_id</th>\n",
       "      <th>stars</th>\n",
       "      <th>date</th>\n",
       "      <th>text</th>\n",
       "      <th>useful</th>\n",
       "      <th>funny</th>\n",
       "      <th>cool</th>\n",
       "    </tr>\n",
       "  </thead>\n",
       "  <tbody>\n",
       "    <tr>\n",
       "      <th>0</th>\n",
       "      <td>vVXQrmj6CArpQJkJQ_4fMQ</td>\n",
       "      <td>DgvO50NfNIEZeinKkCgORA</td>\n",
       "      <td>-XrG8PgkJ4XehqWOnV1-TA</td>\n",
       "      <td>1</td>\n",
       "      <td>2017-08-20</td>\n",
       "      <td>This car wash sucks.  Paid $40 for the Ultimat...</td>\n",
       "      <td>0</td>\n",
       "      <td>0</td>\n",
       "      <td>0</td>\n",
       "    </tr>\n",
       "    <tr>\n",
       "      <th>1</th>\n",
       "      <td>pkcT55BnL6JsZlz4H0CpBw</td>\n",
       "      <td>E7xztB1S0evVyjG38WSfow</td>\n",
       "      <td>tktorxzEnFYEXE5CkQTP4A</td>\n",
       "      <td>5</td>\n",
       "      <td>2015-04-19</td>\n",
       "      <td>I was referred to Earnie by friends and since ...</td>\n",
       "      <td>0</td>\n",
       "      <td>0</td>\n",
       "      <td>0</td>\n",
       "    </tr>\n",
       "    <tr>\n",
       "      <th>2</th>\n",
       "      <td>z-GV4ZfqLGTjbVr2QfPj8A</td>\n",
       "      <td>G73QCz-7EOEKAyJ6cGnjkg</td>\n",
       "      <td>RSSZt1bcFHbvYYTI2he6lg</td>\n",
       "      <td>1</td>\n",
       "      <td>2017-08-14</td>\n",
       "      <td>The food is okay, but they have the worst serv...</td>\n",
       "      <td>0</td>\n",
       "      <td>0</td>\n",
       "      <td>0</td>\n",
       "    </tr>\n",
       "    <tr>\n",
       "      <th>3</th>\n",
       "      <td>BXrlwetTFhEMm3uq_cddsQ</td>\n",
       "      <td>gAcz_T0JKVmXDWkFehJigQ</td>\n",
       "      <td>VzSUgIOcyO7JmTwYDnyivQ</td>\n",
       "      <td>1</td>\n",
       "      <td>2012-02-06</td>\n",
       "      <td>Opting out from the noise and hustle of Flo's ...</td>\n",
       "      <td>7</td>\n",
       "      <td>8</td>\n",
       "      <td>1</td>\n",
       "    </tr>\n",
       "    <tr>\n",
       "      <th>4</th>\n",
       "      <td>Jh59oT1TdLzO_XPcfHzeRQ</td>\n",
       "      <td>emeP3q1wBsmZDa3ZkRC8ug</td>\n",
       "      <td>fKlr9qNoV37WQJwQ826POg</td>\n",
       "      <td>5</td>\n",
       "      <td>2015-07-19</td>\n",
       "      <td>Basically, unlimited steak. If you like steak,...</td>\n",
       "      <td>3</td>\n",
       "      <td>0</td>\n",
       "      <td>0</td>\n",
       "    </tr>\n",
       "  </tbody>\n",
       "</table>\n",
       "</div>"
      ],
      "text/plain": [
       "                review_id                 user_id             business_id  \\\n",
       "0  vVXQrmj6CArpQJkJQ_4fMQ  DgvO50NfNIEZeinKkCgORA  -XrG8PgkJ4XehqWOnV1-TA   \n",
       "1  pkcT55BnL6JsZlz4H0CpBw  E7xztB1S0evVyjG38WSfow  tktorxzEnFYEXE5CkQTP4A   \n",
       "2  z-GV4ZfqLGTjbVr2QfPj8A  G73QCz-7EOEKAyJ6cGnjkg  RSSZt1bcFHbvYYTI2he6lg   \n",
       "3  BXrlwetTFhEMm3uq_cddsQ  gAcz_T0JKVmXDWkFehJigQ  VzSUgIOcyO7JmTwYDnyivQ   \n",
       "4  Jh59oT1TdLzO_XPcfHzeRQ  emeP3q1wBsmZDa3ZkRC8ug  fKlr9qNoV37WQJwQ826POg   \n",
       "\n",
       "   stars        date                                               text  \\\n",
       "0      1  2017-08-20  This car wash sucks.  Paid $40 for the Ultimat...   \n",
       "1      5  2015-04-19  I was referred to Earnie by friends and since ...   \n",
       "2      1  2017-08-14  The food is okay, but they have the worst serv...   \n",
       "3      1  2012-02-06  Opting out from the noise and hustle of Flo's ...   \n",
       "4      5  2015-07-19  Basically, unlimited steak. If you like steak,...   \n",
       "\n",
       "   useful  funny  cool  \n",
       "0       0      0     0  \n",
       "1       0      0     0  \n",
       "2       0      0     0  \n",
       "3       7      8     1  \n",
       "4       3      0     0  "
      ]
     },
     "execution_count": 524,
     "metadata": {},
     "output_type": "execute_result"
    }
   ],
   "source": [
    "data = pd.read_csv('yelp_2k.csv')\n",
    "data.head()"
   ]
  },
  {
   "cell_type": "markdown",
   "metadata": {},
   "source": [
    "## Bag of words"
   ]
  },
  {
   "cell_type": "code",
   "execution_count": 525,
   "metadata": {},
   "outputs": [],
   "source": [
    "from sklearn.feature_extraction.text import CountVectorizer\n",
    "\n",
    "# stop words: list of str\n",
    "vectorizer = CountVectorizer(lowercase=True, stop_words=None)\n",
    "X = vectorizer.fit_transform(data.text)\n",
    "\n",
    "# data stars to binary 1 -> 0, 5->1\n",
    "y = data.stars.copy()\n",
    "y[data.stars ==1] = 0\n",
    "y[data.stars ==5] =1"
   ]
  },
  {
   "cell_type": "code",
   "execution_count": 526,
   "metadata": {},
   "outputs": [
    {
     "data": {
      "image/png": "[encoded data removed]",
      "text/plain": [
       "<matplotlib.figure.Figure at 0x1a710756eb8>"
      ]
     },
     "metadata": {},
     "output_type": "display_data"
    }
   ],
   "source": [
    "import matplotlib.pyplot as plt\n",
    "\n",
    "words_count = np.sum(X.toarray(),0)\n",
    "plt.plot(sorted(words_count, reverse=True), '.')\n",
    "plt.title('Word Count vs Word Rank')\n",
    "plt.xlabel('Word Rank')\n",
    "plt.ylabel('Word Count')\n",
    "plt.show()"
   ]
  },
  {
   "cell_type": "markdown",
   "metadata": {},
   "source": [
    "### Stop Words"
   ]
  },
  {
   "cell_type": "code",
   "execution_count": 551,
   "metadata": {},
   "outputs": [],
   "source": [
    "words = pd.DataFrame([vectorizer.get_feature_names(), list(words_count)]).T\n",
    "words.columns= ['word', 'count']\n",
    "\n",
    "# minimum word count:1\n",
    "min_words = words[words['count']<5].word\n",
    "max_words = words[words['count']>1000].word\n",
    "\n",
    "# stop words\n",
    "# exclude numbers and weird words\n",
    "num_list = list(words[words.word.str.contains('[0-9]')].word)\n",
    "for_list = list(words[words.word.str.contains('[äçü]')].word)"
   ]
  },
  {
   "cell_type": "markdown",
   "metadata": {},
   "source": [
    "### Updated"
   ]
  },
  {
   "cell_type": "code",
   "execution_count": 553,
   "metadata": {},
   "outputs": [
    {
     "data": {
      "image/png": "[encoded data removed]",
      "text/plain": [
       "<matplotlib.figure.Figure at 0x1a70708bb00>"
      ]
     },
     "metadata": {},
     "output_type": "display_data"
    }
   ],
   "source": [
    "n = data.shape[0]\n",
    "vectorizer = CountVectorizer(stop_words=num_list+for_list, min_df=5/n, max_df=1000/n)\n",
    "X = vectorizer.fit_transform(data.text)\n",
    "\n",
    "words_count = np.sum(X.toarray(), 0)\n",
    "plt.plot(sorted(words_count, reverse=True), '.')\n",
    "plt.title('Word Count vs Word Rank')\n",
    "plt.xlabel('Word Rank')\n",
    "plt.ylabel('Word Count')\n",
    "plt.show()"
   ]
  },
  {
   "cell_type": "markdown",
   "metadata": {},
   "source": [
    "## Text Retrieval"
   ]
  },
  {
   "cell_type": "markdown",
   "metadata": {},
   "source": [
    "In this section, we look at finding similar documents to a query phrase.\n",
    "\n",
    "1. Using nearest neighbor with a cos-distance metric, find 5 reviews matching *Horrible customer service.*\n",
    "2. Print the original text from the review along with the associated distance score. You can truncate the review to 200 words so we don't get a page of text.\n",
    "3. Looking at all the distance scores, how many documents do you think are good matches to the query?"
   ]
  },
  {
   "cell_type": "code",
   "execution_count": 555,
   "metadata": {},
   "outputs": [
    {
     "data": {
      "text/plain": [
       "True"
      ]
     },
     "execution_count": 555,
     "metadata": {},
     "output_type": "execute_result"
    }
   ],
   "source": [
    "'service' in vectorizer.get_feature_names()"
   ]
  },
  {
   "cell_type": "code",
   "execution_count": 576,
   "metadata": {},
   "outputs": [],
   "source": [
    "from sklearn.neighbors import NearestNeighbors\n",
    "\n",
    "knn = NearestNeighbors(n_neighbors=5, metric = 'cosine')\n",
    "knn.fit(X, y)\n",
    "text_x = vectorizer.transform(['horrible customer service'])\n",
    "dist_arr, idx = knn.kneighbors(text_x, n_neighbors=30)"
   ]
  },
  {
   "cell_type": "code",
   "execution_count": 579,
   "metadata": {},
   "outputs": [
    {
     "name": "stdout",
     "output_type": "stream",
     "text": [
      "0\n",
      "Rogers ...\n",
      "\n",
      "1) is over priced\n",
      "2) have horrible customer service\n",
      "3) faulty and incorrect billing\n",
      "4) poor customer service\n",
      "5) not enough options\n",
      "6) never arrive for an appointment\n",
      "cosine distance: 0.6154574548966637\n",
      "\n",
      "\n",
      "1\n",
      "Horrible service, horrible customer service, and horrible quality of service!  Do not waste your time or money using this company for your pool needs.  Dan (602)363-8267 broke my pool filtration system and left it in a nonworking condition.  He will not repair the issue he caused, and told me to go somewhere else.  \n",
      "\n",
      "Save yourself the hassle, there are plenty of other quality pool companies out there.  \n",
      "\n",
      "Take care!\n",
      "cosine distance: 0.45184805705753206\n",
      "\n",
      "\n",
      "2\n",
      "Service was horrible came with a major attitude. Payed 30 for lasagna and was no where worth it. Won't ever be going back and will NEVER recommend this place. was treated absolutely horrible. Horrible.\n",
      "cosine distance: 0.4364357804719847\n",
      "\n",
      "\n",
      "3\n",
      "Went to Marca today to get a haircut and was given a great service both by front desk - customer service and by Georgia, girl who did my hair. I guess I got lucky with her as she has years of experience doing this job. She has excellent customer service skills and takes excellent care of her customers.\n",
      "cosine distance: 0.3758230140014145\n",
      "\n",
      "\n",
      "4\n",
      "I come here now for all my car service needs.  In my experiences, the work is always performed in an efficient, effective manner and in good humor.  I appreciate the consistent attention paid to provide above par customer service.  Service is routinely administered in an expedient fashion, which is respectful of my personal time, and extremely contributive to my loyalty to the location.\n",
      "cosine distance: 0.360667853866973\n",
      "\n",
      "\n",
      "5\n",
      "Customer service was super bad. The pizza was cold by the time they delivered it to me.\n",
      "cosine distance: 0.3481553119113957\n",
      "\n",
      "\n",
      "6\n",
      "Horrible service....What a mess upon ordering and paying. Where is the manager on duty to fix this!\n",
      "cosine distance: 0.3333333333333335\n",
      "\n",
      "\n",
      "7\n",
      "Worse customer service . trying to ask for help .... No one volunteer to help. This is ridiculous\n",
      "cosine distance: 0.3333333333333335\n",
      "\n",
      "\n",
      "8\n",
      "The service is horrible. It's not bad inside, but really one of the most annoying clubs in Vegas. I'm all for Vegas clubs, but service here sucks.\n",
      "cosine distance: 0.33333333333333337\n",
      "\n",
      "\n",
      "9\n",
      "Horrible customer service!  Been with them over 2 years, and after staying with them during my last move they raised my bill almost double for the same services!  Sent two emails since I don't have time to call, not a single response. Will finally waste an entire night to call to cancel my service.\n",
      "cosine distance: 0.32659863237109044\n",
      "\n",
      "\n",
      "10\n",
      "Not $19.95. Unmarked cars and no uniforms. Bad customer service. Will charge you 7-8x more than advertised. I waited one hour before 24hrlockouts showed up. I will not recommend this service to anyone.\n",
      "cosine distance: 0.3216337604513385\n",
      "\n",
      "\n",
      "11\n",
      "REALLY bad service. Zero Customer service. Zero courtesy from the staff. I don't know how this place got to 4 stars. It's definitely a lie. Service sucks. Waited for my order for more than 45 minutes and it was over cooked and burnt. Every item is over priced. I would not even give it a single star. Never going back again.\n",
      "cosine distance: 0.3202563076101743\n",
      "\n",
      "\n",
      "12\n",
      "Bravo! Wonderful world-class customer service and great products. I went their last week and happily blew my diet.\n",
      "cosine distance: 0.2981423969999719\n",
      "\n",
      "\n",
      "13\n",
      "Horrible service. I was treated so poorly by the staff here. Coffee terrible too. I'd advise finding somewhere else!\n",
      "cosine distance: 0.2981423969999719\n",
      "\n",
      "\n",
      "14\n",
      "The food is okay but the service is horrible. I'm pretty sure the women taking my order rolled her eyes a few time .\n",
      "cosine distance: 0.2981423969999719\n",
      "\n",
      "\n",
      "15\n",
      "They have no concept of making an authentic shawarma. Horrible unfriendly service and the nerve to charge $1 to pay by card.\n",
      "cosine distance: 0.2981423969999719\n",
      "\n",
      "\n",
      "16\n",
      "Polite service and absolutely awesome, mouthwatering sweets!\n",
      "cosine distance: 0.28867513459481287\n",
      "\n",
      "\n",
      "17\n",
      "Their flower arrangements are gorgeous! The attention to detail and excellent customer service is what keeps me coming back! Highly recommend!!\n",
      "cosine distance: 0.28867513459481287\n",
      "\n",
      "\n",
      "18\n",
      "I love love Cornish. They have great beer and delicious food (with vegan options!). The new location is beautiful and the customer service is always great. This is definitely one of my favorite places in Las Vegas.\n",
      "\n",
      "My boyfriend and I went recently on First Friday. Surprisingly, we were able to sit right away. I was really impressed with the customer service we received on such a busy night. I highly recommend this place.\n",
      "cosine distance: 0.2864459496157732\n",
      "\n",
      "\n",
      "19\n",
      "HORRIBLE customer service. When you call you'll get transferred 3 Times. No one knows what they're doing. Was trying to buy a car and the dealer took forever to get back to us. Not a good experience vs other places.\n",
      "cosine distance: 0.2847473987257497\n",
      "\n",
      "\n",
      "20\n",
      "I can't thank JC in service enough. I've had bad experiences from sales to service but he completely turned this around for me, numerous times. If it wasn't for him, giving me the best customer service, following through with his promises of getting my vehicle back to me in time and taking into account that I'm being inconvenienced by bringing my car in for recall work, I wouldn't have returned. Plus to top off the entire good experience, my shuttle driver, Jim was a REAL gem. He was so sweet and had the best stories. Thanks to the both of you for not wasting my time and putting my cars service needs, first.\n",
      "cosine distance: 0.28306925853614895\n",
      "\n",
      "\n",
      "21\n",
      "The food is \"ok,\" but I LOVE the service.  It is a small mom and pop type japanese restaurant with the sweetest service.  It is a peaceful place to eat quietly.\n",
      "cosine distance: 0.280056016805602\n",
      "\n",
      "\n",
      "22\n",
      "JR. was wonderful and went the extra mile. Verizon was unable to do what I was asking and ubreakifix handled it on site within 20 minutes. Great customer service.\n",
      "cosine distance: 0.280056016805602\n",
      "\n",
      "\n",
      "23\n",
      "Been to C0lumbia Outlets in Portland, Woodburn, Sellwood, Lake Oswego and Lincoln City.\n",
      "This store has the worst selection, pricing and customer service I have experienced with Columbia.\n",
      "What a waste of time!\n",
      "cosine distance: 0.280056016805602\n",
      "\n",
      "\n",
      "24\n",
      "I've only used Camelback Toyota for service so far, but for that alone it gets 5 stars! Great facility that makes coming in for service truly enjoyable. Everyone is super friendly and my service is always completed quickly and perfectly. Won't be buying another car for a few years but I will certainly be considering here when the time comes!\n",
      "\n",
      "PS: get in early for service to take advantage of the free massage chairs and food!\n",
      "cosine distance: 0.27602622373694174\n",
      "\n",
      "\n",
      "25\n",
      "The worst customer service I have ever experienced not only inside of a gun shop, but anywhere I've ever shopped. I thought when you're uneducated about a firearm, the employees were supposed to inform the customer and educate them rather than judging them as a younger, delinquent of some kind? I'm a 23 year old student about to graduate at The University of Akron with a Corporate Financial Management degree; not a hoodlum. Rob (who usually works the range) is by far the worst customer service representative with the worst attitude, don't even bother asking him for help. He should be fired. The older gentleman in there with white hair and glasses, whose name I forget, is almost as bad as Rob. I have felt judged and uncomfortable every time I enter this establishment which is why I refuse to ever spend another dollar at Pro Armament. The only employee who is actually great at what they do is Jay. Jay is amazing help, very informative, and will help you get educated about what you're getting into. It's unfortunate that the other employees at Pro Armamnet can't feed off of his work ethic and customer service.\n",
      "cosine distance: 0.27309601012430473\n",
      "\n",
      "\n",
      "26\n",
      "They shut down. Makes sense, they had terrible service and subpar food..should have listened to your customer base.\n",
      "cosine distance: 0.2721655269759087\n",
      "\n",
      "\n",
      "27\n",
      "Service was ok, food was horrible and there are no kid menus. The chicken picatta tasted microwaved. The artichokes tasted like they were frozen.\n",
      "cosine distance: 0.2721655269759087\n",
      "\n",
      "\n",
      "28\n",
      "This was the highlight of our trip to the Outlet Mall.\n",
      "\n",
      "We had great customer service, and that goes a long ways.  We were not in the market to buy, but we were in the market for information, and they delivered.\n",
      "\n",
      "If we lived in the area, I'd be back just for the customer service.  Bose makes a great product, and here the product was enhanced as the information about the products was delivered with a smile and answers.\n",
      "cosine distance: 0.2666666666666666\n",
      "\n",
      "\n",
      "29\n",
      "My mom and dad have taken me here, and the food is delicious! His pizza is AMAZING, and the customer service is great! We love Pauly and his accent!\n",
      "cosine distance: 0.2649064714130087\n",
      "\n",
      "\n"
     ]
    }
   ],
   "source": [
    "for i, dist in enumerate(dist_arr[0]):\n",
    "    print(i)\n",
    "    print(data.text[idx[0][i]])\n",
    "    print('cosine distance: '+str(1-dist) )\n",
    "    print('\\n')"
   ]
  },
  {
   "cell_type": "markdown",
   "metadata": {},
   "source": [
    "## Classification with Logistic Regression"
   ]
  },
  {
   "cell_type": "code",
   "execution_count": 447,
   "metadata": {},
   "outputs": [
    {
     "data": {
      "text/plain": [
       "0.95"
      ]
     },
     "execution_count": 447,
     "metadata": {},
     "output_type": "execute_result"
    }
   ],
   "source": [
    "from sklearn.linear_model import LogisticRegression\n",
    "from sklearn.model_selection import train_test_split\n",
    "\n",
    "# train test split 0.1\n",
    "train_X, test_X, train_y, test_y = train_test_split(X, y, test_size=0.1)\n",
    "logit = LogisticRegression()\n",
    "logit.fit(train_X, train_y)\n",
    "pred = logit.predict(test_X)\n",
    "# test set accuracy\n",
    "logit.score(test_X, test_y)"
   ]
  },
  {
   "cell_type": "code",
   "execution_count": 626,
   "metadata": {},
   "outputs": [
    {
     "data": {
      "text/plain": [
       "1.0"
      ]
     },
     "execution_count": 626,
     "metadata": {},
     "output_type": "execute_result"
    }
   ],
   "source": [
    "# train set accuracy\n",
    "logit.score(train_X, train_y)"
   ]
  },
  {
   "cell_type": "code",
   "execution_count": 627,
   "metadata": {},
   "outputs": [],
   "source": [
    "## divide pos and neg\n",
    "neg_mask = np.where(train_y==0)\n",
    "pos_mask = np.where(train_y==1)\n",
    "\n",
    "# neg, pos split\n",
    "train_negX = train_X[neg_mask]\n",
    "train_posX = train_X[pos_mask]\n",
    "\n",
    "# prob for each neg, pos\n",
    "neg_prob = logit.predict_proba(train_negX)[:,1]\n",
    "pos_prob = logit.predict_proba(train_posX)[:,1]"
   ]
  },
  {
   "cell_type": "code",
   "execution_count": 628,
   "metadata": {},
   "outputs": [
    {
     "data": {
      "image/png": "[encoded data removed]",
      "text/plain": [
       "<matplotlib.figure.Figure at 0x1a710334d68>"
      ]
     },
     "metadata": {},
     "output_type": "display_data"
    }
   ],
   "source": [
    "# plot hist\n",
    "plt.hist(neg_prob, bins=10)\n",
    "plt.hist(pos_prob, bins=10)\n",
    "plt.title('Histogram of Predicted Scores')\n",
    "plt.ylabel('Counts of predictions in bucket')\n",
    "plt.xlabel('Predicted scores')\n",
    "plt.legend(['negative', 'positive'], loc=9)\n",
    "# plt.ylim([0,5])\n",
    "plt.show()"
   ]
  },
  {
   "cell_type": "markdown",
   "metadata": {},
   "source": [
    "### New Threshold"
   ]
  },
  {
   "cell_type": "code",
   "execution_count": 629,
   "metadata": {},
   "outputs": [
    {
     "data": {
      "text/plain": [
       "0.96"
      ]
     },
     "execution_count": 629,
     "metadata": {},
     "output_type": "execute_result"
    }
   ],
   "source": [
    "# test set\n",
    "threshold = 0.4\n",
    "pred = test_y.copy()\n",
    "pred[:]= 0\n",
    "pred[logit.predict_proba(test_X)[:,1]>threshold] = 1\n",
    "\n",
    "np.mean(pred==test_y)"
   ]
  },
  {
   "cell_type": "code",
   "execution_count": 630,
   "metadata": {},
   "outputs": [
    {
     "data": {
      "text/plain": [
       "1.0"
      ]
     },
     "execution_count": 630,
     "metadata": {},
     "output_type": "execute_result"
    }
   ],
   "source": [
    "# train set\n",
    "pred = train_y.copy()\n",
    "pred[:]= 0\n",
    "pred[logit.predict_proba(train_X)[:,1]>threshold] = 1\n",
    "\n",
    "np.mean(pred==train_y)"
   ]
  },
  {
   "cell_type": "markdown",
   "metadata": {},
   "source": [
    "## ROC curve"
   ]
  },
  {
   "cell_type": "code",
   "execution_count": 619,
   "metadata": {},
   "outputs": [],
   "source": [
    "from sklearn.metrics import auc\n",
    "from sklearn.metrics import roc_curve\n",
    "\n",
    "# calculate prob\n",
    "prob = logit.predict_proba(test_X)\n",
    "# get false positive, true positive\n",
    "fpr, tpr, thresholds = roc_curve(y_true=test_y, y_score=prob[:,1])"
   ]
  },
  {
   "cell_type": "code",
   "execution_count": 621,
   "metadata": {},
   "outputs": [
    {
     "data": {
      "image/png": "[encoded data removed]",
      "text/plain": [
       "<matplotlib.figure.Figure at 0x1a7109d80b8>"
      ]
     },
     "metadata": {},
     "output_type": "display_data"
    }
   ],
   "source": [
    "plt.plot(fpr, tpr, color='orange', label= '')\n",
    "plt.plot([0,1], '--')\n",
    "plt.title(\"ROC Curve\")\n",
    "plt.xlabel('False Positive Rate')\n",
    "plt.ylabel('True Positive Rate')\n",
    "plt.legend(['ROC area = {0:0.3f}'.format(auc(fpr, tpr))])\n",
    "plt.show()"
   ]
  },
  {
   "cell_type": "code",
   "execution_count": 641,
   "metadata": {},
   "outputs": [],
   "source": [
    "roc_data = pd.DataFrame([fpr, tpr, np.round(thresholds,2)]).T\n",
    "roc_data.columns = ['False Positive', 'True Positive', \"Thresholds\"]"
   ]
  },
  {
   "cell_type": "code",
   "execution_count": 642,
   "metadata": {},
   "outputs": [
    {
     "data": {
      "text/html": [
       "<div>\n",
       "<style scoped>\n",
       "    .dataframe tbody tr th:only-of-type {\n",
       "        vertical-align: middle;\n",
       "    }\n",
       "\n",
       "    .dataframe tbody tr th {\n",
       "        vertical-align: top;\n",
       "    }\n",
       "\n",
       "    .dataframe thead th {\n",
       "        text-align: right;\n",
       "    }\n",
       "</style>\n",
       "<table border=\"1\" class=\"dataframe\">\n",
       "  <thead>\n",
       "    <tr style=\"text-align: right;\">\n",
       "      <th></th>\n",
       "      <th>False Positive</th>\n",
       "      <th>True Positive</th>\n",
       "      <th>Thresholds</th>\n",
       "    </tr>\n",
       "  </thead>\n",
       "  <tbody>\n",
       "    <tr>\n",
       "      <th>0</th>\n",
       "      <td>0.000000</td>\n",
       "      <td>0.009524</td>\n",
       "      <td>1.00</td>\n",
       "    </tr>\n",
       "    <tr>\n",
       "      <th>1</th>\n",
       "      <td>0.000000</td>\n",
       "      <td>0.504762</td>\n",
       "      <td>0.98</td>\n",
       "    </tr>\n",
       "    <tr>\n",
       "      <th>2</th>\n",
       "      <td>0.010526</td>\n",
       "      <td>0.504762</td>\n",
       "      <td>0.98</td>\n",
       "    </tr>\n",
       "    <tr>\n",
       "      <th>3</th>\n",
       "      <td>0.010526</td>\n",
       "      <td>0.876190</td>\n",
       "      <td>0.71</td>\n",
       "    </tr>\n",
       "    <tr>\n",
       "      <th>4</th>\n",
       "      <td>0.021053</td>\n",
       "      <td>0.876190</td>\n",
       "      <td>0.70</td>\n",
       "    </tr>\n",
       "    <tr>\n",
       "      <th>5</th>\n",
       "      <td>0.021053</td>\n",
       "      <td>0.933333</td>\n",
       "      <td>0.54</td>\n",
       "    </tr>\n",
       "    <tr>\n",
       "      <th>6</th>\n",
       "      <td>0.031579</td>\n",
       "      <td>0.933333</td>\n",
       "      <td>0.52</td>\n",
       "    </tr>\n",
       "    <tr>\n",
       "      <th>7</th>\n",
       "      <td>0.031579</td>\n",
       "      <td>0.952381</td>\n",
       "      <td>0.43</td>\n",
       "    </tr>\n",
       "    <tr>\n",
       "      <th>8</th>\n",
       "      <td>0.052632</td>\n",
       "      <td>0.952381</td>\n",
       "      <td>0.36</td>\n",
       "    </tr>\n",
       "    <tr>\n",
       "      <th>9</th>\n",
       "      <td>0.052632</td>\n",
       "      <td>0.961905</td>\n",
       "      <td>0.36</td>\n",
       "    </tr>\n",
       "    <tr>\n",
       "      <th>10</th>\n",
       "      <td>0.105263</td>\n",
       "      <td>0.961905</td>\n",
       "      <td>0.17</td>\n",
       "    </tr>\n",
       "    <tr>\n",
       "      <th>11</th>\n",
       "      <td>0.105263</td>\n",
       "      <td>0.971429</td>\n",
       "      <td>0.17</td>\n",
       "    </tr>\n",
       "    <tr>\n",
       "      <th>12</th>\n",
       "      <td>0.126316</td>\n",
       "      <td>0.971429</td>\n",
       "      <td>0.15</td>\n",
       "    </tr>\n",
       "    <tr>\n",
       "      <th>13</th>\n",
       "      <td>0.126316</td>\n",
       "      <td>0.980952</td>\n",
       "      <td>0.13</td>\n",
       "    </tr>\n",
       "    <tr>\n",
       "      <th>14</th>\n",
       "      <td>0.178947</td>\n",
       "      <td>0.980952</td>\n",
       "      <td>0.10</td>\n",
       "    </tr>\n",
       "    <tr>\n",
       "      <th>15</th>\n",
       "      <td>0.178947</td>\n",
       "      <td>0.990476</td>\n",
       "      <td>0.09</td>\n",
       "    </tr>\n",
       "    <tr>\n",
       "      <th>16</th>\n",
       "      <td>0.221053</td>\n",
       "      <td>0.990476</td>\n",
       "      <td>0.07</td>\n",
       "    </tr>\n",
       "    <tr>\n",
       "      <th>17</th>\n",
       "      <td>0.221053</td>\n",
       "      <td>1.000000</td>\n",
       "      <td>0.06</td>\n",
       "    </tr>\n",
       "    <tr>\n",
       "      <th>18</th>\n",
       "      <td>1.000000</td>\n",
       "      <td>1.000000</td>\n",
       "      <td>0.00</td>\n",
       "    </tr>\n",
       "  </tbody>\n",
       "</table>\n",
       "</div>"
      ],
      "text/plain": [
       "    False Positive  True Positive  Thresholds\n",
       "0         0.000000       0.009524        1.00\n",
       "1         0.000000       0.504762        0.98\n",
       "2         0.010526       0.504762        0.98\n",
       "3         0.010526       0.876190        0.71\n",
       "4         0.021053       0.876190        0.70\n",
       "5         0.021053       0.933333        0.54\n",
       "6         0.031579       0.933333        0.52\n",
       "7         0.031579       0.952381        0.43\n",
       "8         0.052632       0.952381        0.36\n",
       "9         0.052632       0.961905        0.36\n",
       "10        0.105263       0.961905        0.17\n",
       "11        0.105263       0.971429        0.17\n",
       "12        0.126316       0.971429        0.15\n",
       "13        0.126316       0.980952        0.13\n",
       "14        0.178947       0.980952        0.10\n",
       "15        0.178947       0.990476        0.09\n",
       "16        0.221053       0.990476        0.07\n",
       "17        0.221053       1.000000        0.06\n",
       "18        1.000000       1.000000        0.00"
      ]
     },
     "execution_count": 642,
     "metadata": {},
     "output_type": "execute_result"
    }
   ],
   "source": [
    "roc_data"
   ]
  },
  {
   "cell_type": "code",
   "execution_count": 644,
   "metadata": {},
   "outputs": [
    {
     "data": {
      "text/html": [
       "<div>\n",
       "<style scoped>\n",
       "    .dataframe tbody tr th:only-of-type {\n",
       "        vertical-align: middle;\n",
       "    }\n",
       "\n",
       "    .dataframe tbody tr th {\n",
       "        vertical-align: top;\n",
       "    }\n",
       "\n",
       "    .dataframe thead th {\n",
       "        text-align: right;\n",
       "    }\n",
       "</style>\n",
       "<table border=\"1\" class=\"dataframe\">\n",
       "  <thead>\n",
       "    <tr style=\"text-align: right;\">\n",
       "      <th></th>\n",
       "      <th>False Positive</th>\n",
       "      <th>True Positive</th>\n",
       "      <th>Thresholds</th>\n",
       "      <th>distance</th>\n",
       "    </tr>\n",
       "  </thead>\n",
       "  <tbody>\n",
       "    <tr>\n",
       "      <th>0</th>\n",
       "      <td>0.000000</td>\n",
       "      <td>0.009524</td>\n",
       "      <td>1.00</td>\n",
       "      <td>0.990476</td>\n",
       "    </tr>\n",
       "    <tr>\n",
       "      <th>1</th>\n",
       "      <td>0.000000</td>\n",
       "      <td>0.504762</td>\n",
       "      <td>0.98</td>\n",
       "      <td>0.495238</td>\n",
       "    </tr>\n",
       "    <tr>\n",
       "      <th>2</th>\n",
       "      <td>0.010526</td>\n",
       "      <td>0.504762</td>\n",
       "      <td>0.98</td>\n",
       "      <td>0.505764</td>\n",
       "    </tr>\n",
       "    <tr>\n",
       "      <th>3</th>\n",
       "      <td>0.010526</td>\n",
       "      <td>0.876190</td>\n",
       "      <td>0.71</td>\n",
       "      <td>0.134336</td>\n",
       "    </tr>\n",
       "    <tr>\n",
       "      <th>4</th>\n",
       "      <td>0.021053</td>\n",
       "      <td>0.876190</td>\n",
       "      <td>0.70</td>\n",
       "      <td>0.144862</td>\n",
       "    </tr>\n",
       "    <tr>\n",
       "      <th>5</th>\n",
       "      <td>0.021053</td>\n",
       "      <td>0.933333</td>\n",
       "      <td>0.54</td>\n",
       "      <td>0.087719</td>\n",
       "    </tr>\n",
       "    <tr>\n",
       "      <th>6</th>\n",
       "      <td>0.031579</td>\n",
       "      <td>0.933333</td>\n",
       "      <td>0.52</td>\n",
       "      <td>0.098246</td>\n",
       "    </tr>\n",
       "    <tr>\n",
       "      <th>7</th>\n",
       "      <td>0.031579</td>\n",
       "      <td>0.952381</td>\n",
       "      <td>0.43</td>\n",
       "      <td>0.079198</td>\n",
       "    </tr>\n",
       "    <tr>\n",
       "      <th>8</th>\n",
       "      <td>0.052632</td>\n",
       "      <td>0.952381</td>\n",
       "      <td>0.36</td>\n",
       "      <td>0.100251</td>\n",
       "    </tr>\n",
       "    <tr>\n",
       "      <th>9</th>\n",
       "      <td>0.052632</td>\n",
       "      <td>0.961905</td>\n",
       "      <td>0.36</td>\n",
       "      <td>0.090727</td>\n",
       "    </tr>\n",
       "    <tr>\n",
       "      <th>10</th>\n",
       "      <td>0.105263</td>\n",
       "      <td>0.961905</td>\n",
       "      <td>0.17</td>\n",
       "      <td>0.143358</td>\n",
       "    </tr>\n",
       "    <tr>\n",
       "      <th>11</th>\n",
       "      <td>0.105263</td>\n",
       "      <td>0.971429</td>\n",
       "      <td>0.17</td>\n",
       "      <td>0.133835</td>\n",
       "    </tr>\n",
       "    <tr>\n",
       "      <th>12</th>\n",
       "      <td>0.126316</td>\n",
       "      <td>0.971429</td>\n",
       "      <td>0.15</td>\n",
       "      <td>0.154887</td>\n",
       "    </tr>\n",
       "    <tr>\n",
       "      <th>13</th>\n",
       "      <td>0.126316</td>\n",
       "      <td>0.980952</td>\n",
       "      <td>0.13</td>\n",
       "      <td>0.145363</td>\n",
       "    </tr>\n",
       "    <tr>\n",
       "      <th>14</th>\n",
       "      <td>0.178947</td>\n",
       "      <td>0.980952</td>\n",
       "      <td>0.10</td>\n",
       "      <td>0.197995</td>\n",
       "    </tr>\n",
       "    <tr>\n",
       "      <th>15</th>\n",
       "      <td>0.178947</td>\n",
       "      <td>0.990476</td>\n",
       "      <td>0.09</td>\n",
       "      <td>0.188471</td>\n",
       "    </tr>\n",
       "    <tr>\n",
       "      <th>16</th>\n",
       "      <td>0.221053</td>\n",
       "      <td>0.990476</td>\n",
       "      <td>0.07</td>\n",
       "      <td>0.230576</td>\n",
       "    </tr>\n",
       "    <tr>\n",
       "      <th>17</th>\n",
       "      <td>0.221053</td>\n",
       "      <td>1.000000</td>\n",
       "      <td>0.06</td>\n",
       "      <td>0.221053</td>\n",
       "    </tr>\n",
       "    <tr>\n",
       "      <th>18</th>\n",
       "      <td>1.000000</td>\n",
       "      <td>1.000000</td>\n",
       "      <td>0.00</td>\n",
       "      <td>1.000000</td>\n",
       "    </tr>\n",
       "  </tbody>\n",
       "</table>\n",
       "</div>"
      ],
      "text/plain": [
       "    False Positive  True Positive  Thresholds  distance\n",
       "0         0.000000       0.009524        1.00  0.990476\n",
       "1         0.000000       0.504762        0.98  0.495238\n",
       "2         0.010526       0.504762        0.98  0.505764\n",
       "3         0.010526       0.876190        0.71  0.134336\n",
       "4         0.021053       0.876190        0.70  0.144862\n",
       "5         0.021053       0.933333        0.54  0.087719\n",
       "6         0.031579       0.933333        0.52  0.098246\n",
       "7         0.031579       0.952381        0.43  0.079198\n",
       "8         0.052632       0.952381        0.36  0.100251\n",
       "9         0.052632       0.961905        0.36  0.090727\n",
       "10        0.105263       0.961905        0.17  0.143358\n",
       "11        0.105263       0.971429        0.17  0.133835\n",
       "12        0.126316       0.971429        0.15  0.154887\n",
       "13        0.126316       0.980952        0.13  0.145363\n",
       "14        0.178947       0.980952        0.10  0.197995\n",
       "15        0.178947       0.990476        0.09  0.188471\n",
       "16        0.221053       0.990476        0.07  0.230576\n",
       "17        0.221053       1.000000        0.06  0.221053\n",
       "18        1.000000       1.000000        0.00  1.000000"
      ]
     },
     "execution_count": 644,
     "metadata": {},
     "output_type": "execute_result"
    }
   ],
   "source": [
    "roc_data['distance'] = roc_data.iloc[:,0]+(1-roc_data.iloc[:,1])\n",
    "roc_data"
   ]
  }
 ],
 "metadata": {
  "kernelspec": {
   "display_name": "Python 3",
   "language": "python",
   "name": "python3"
  },
  "language_info": {
   "codemirror_mode": {
    "name": "ipython",
    "version": 3
   },
   "file_extension": ".py",
   "mimetype": "text/x-python",
   "name": "python",
   "nbconvert_exporter": "python",
   "pygments_lexer": "ipython3",
   "version": "3.6.4"
  }
 },
 "nbformat": 4,
 "nbformat_minor": 2
}
