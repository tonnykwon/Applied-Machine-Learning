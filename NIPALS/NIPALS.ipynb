{
 "cells": [
  {
   "cell_type": "code",
   "execution_count": 1,
   "metadata": {},
   "outputs": [],
   "source": [
    "import pandas as pd\n",
    "import numpy as np\n",
    "from sklearn.decomposition.pca import PCA"
   ]
  },
  {
   "cell_type": "code",
   "execution_count": 2,
   "metadata": {},
   "outputs": [
    {
     "data": {
      "text/html": [
       "<div>\n",
       "<style scoped>\n",
       "    .dataframe tbody tr th:only-of-type {\n",
       "        vertical-align: middle;\n",
       "    }\n",
       "\n",
       "    .dataframe tbody tr th {\n",
       "        vertical-align: top;\n",
       "    }\n",
       "\n",
       "    .dataframe thead th {\n",
       "        text-align: right;\n",
       "    }\n",
       "</style>\n",
       "<table border=\"1\" class=\"dataframe\">\n",
       "  <thead>\n",
       "    <tr style=\"text-align: right;\">\n",
       "      <th></th>\n",
       "      <th>Sepal.Length</th>\n",
       "      <th>Sepal.Width</th>\n",
       "      <th>Petal.Length</th>\n",
       "      <th>Petal.Width</th>\n",
       "    </tr>\n",
       "  </thead>\n",
       "  <tbody>\n",
       "    <tr>\n",
       "      <th>0</th>\n",
       "      <td>5.1</td>\n",
       "      <td>3.5</td>\n",
       "      <td>1.4</td>\n",
       "      <td>0.2</td>\n",
       "    </tr>\n",
       "    <tr>\n",
       "      <th>1</th>\n",
       "      <td>4.9</td>\n",
       "      <td>3.0</td>\n",
       "      <td>1.4</td>\n",
       "      <td>0.2</td>\n",
       "    </tr>\n",
       "    <tr>\n",
       "      <th>2</th>\n",
       "      <td>4.7</td>\n",
       "      <td>3.2</td>\n",
       "      <td>1.3</td>\n",
       "      <td>0.2</td>\n",
       "    </tr>\n",
       "    <tr>\n",
       "      <th>3</th>\n",
       "      <td>4.6</td>\n",
       "      <td>3.1</td>\n",
       "      <td>1.5</td>\n",
       "      <td>0.2</td>\n",
       "    </tr>\n",
       "    <tr>\n",
       "      <th>4</th>\n",
       "      <td>5.0</td>\n",
       "      <td>3.6</td>\n",
       "      <td>1.4</td>\n",
       "      <td>0.2</td>\n",
       "    </tr>\n",
       "  </tbody>\n",
       "</table>\n",
       "</div>"
      ],
      "text/plain": [
       "   Sepal.Length  Sepal.Width  Petal.Length  Petal.Width\n",
       "0           5.1          3.5           1.4          0.2\n",
       "1           4.9          3.0           1.4          0.2\n",
       "2           4.7          3.2           1.3          0.2\n",
       "3           4.6          3.1           1.5          0.2\n",
       "4           5.0          3.6           1.4          0.2"
      ]
     },
     "execution_count": 2,
     "metadata": {},
     "output_type": "execute_result"
    }
   ],
   "source": [
    "data = pd.read_csv('iris.csv')\n",
    "data.head()"
   ]
  },
  {
   "cell_type": "code",
   "execution_count": 56,
   "metadata": {},
   "outputs": [
    {
     "name": "stdout",
     "output_type": "stream",
     "text": [
      "[ 0.36138659 -0.08452251  0.85667061  0.3582892 ]\n",
      "[-0.65659765 -0.73015232  0.17337383  0.07548934]\n"
     ]
    }
   ],
   "source": [
    "mean = np.mean(data)\n",
    "x = data - mean\n",
    "\n",
    "# iterate over number of principal components\n",
    "n_comp = 2\n",
    "for i in range(n_comp):\n",
    "    u_list = []\n",
    "    steps = 1000\n",
    "    w = np.random.rand(150,1).reshape(-1)\n",
    "    prev_w = 0\n",
    "    threshold = 1e-6\n",
    "    for i in range(steps):\n",
    "        # set u\n",
    "        u = np.dot(w.T, x) / np.dot(w.T,w)\n",
    "        # normalize u\n",
    "        u = u / np.sqrt(np.dot(u,u.T))\n",
    "        # get w\n",
    "        w = np.dot(x, u) / np.sqrt(np.dot(u,u.T))\n",
    "\n",
    "        u_list.append(u)\n",
    "\n",
    "        # convergence check\n",
    "        if i != 0 and i %10 ==0:\n",
    "            if prev_w - np.linalg.norm(w) > threshold:\n",
    "                prev_w = np.linalg.norm(w)\n",
    "            else:\n",
    "                break\n",
    "\n",
    "    recon = np.dot(w.reshape(-1,1), u.reshape(1,-1))\n",
    "    print(u)\n",
    "    wu = np.dot(w.reshape(-1,1), u.reshape(1,-1))\n",
    "    x = x - wu"
   ]
  },
  {
   "cell_type": "code",
   "execution_count": 61,
   "metadata": {},
   "outputs": [],
   "source": [
    "def NIPALS(data, n_comp=2):\n",
    "\n",
    "    # mean center\n",
    "    mean = np.mean(data)\n",
    "    x = data - mean\n",
    "    \n",
    "    # return values\n",
    "    u_list = []\n",
    "    w_list = []\n",
    "    # iterate over number of principal components\n",
    "    for i in range(n_comp):\n",
    "        steps = 1000\n",
    "        w = np.random.rand(150,1).reshape(-1)\n",
    "        prev_w = 0\n",
    "        threshold = 1e-6\n",
    "        \n",
    "        # repeat until convergence\n",
    "        for i in range(steps):\n",
    "            # set u\n",
    "            u = np.dot(w.T, x) / np.dot(w.T,w)\n",
    "            # normalize u\n",
    "            u = u / np.sqrt(np.dot(u,u.T))\n",
    "            # get w\n",
    "            w = np.dot(x, u) / np.sqrt(np.dot(u,u.T))\n",
    "\n",
    "            # convergence check\n",
    "            if i != 0 and i %10 ==0:\n",
    "                if prev_w - np.linalg.norm(w) > threshold:\n",
    "                    prev_w = np.linalg.norm(w)\n",
    "                else:\n",
    "                    break\n",
    "        \n",
    "        u_list.append(u)\n",
    "        w_list.append(w)\n",
    "        recon = np.dot(w.reshape(-1,1), u.reshape(1,-1))\n",
    "        wu = np.dot(w.reshape(-1,1), u.reshape(1,-1))\n",
    "        x = x - wu\n",
    "        \n",
    "    return w_list, u_list"
   ]
  },
  {
   "cell_type": "code",
   "execution_count": 64,
   "metadata": {},
   "outputs": [
    {
     "data": {
      "text/plain": [
       "[array([ 0.36138659, -0.08452251,  0.85667061,  0.3582892 ]),\n",
       " array([ 0.65659012,  0.73016005, -0.17337284, -0.07548229])]"
      ]
     },
     "execution_count": 64,
     "metadata": {},
     "output_type": "execute_result"
    }
   ],
   "source": [
    "w, u = NIPALS(data)\n",
    "u"
   ]
  },
  {
   "cell_type": "code",
   "execution_count": 63,
   "metadata": {},
   "outputs": [
    {
     "data": {
      "text/plain": [
       "array([[ 0.36138659, -0.08452251,  0.85667061,  0.3582892 ],\n",
       "       [ 0.65658877,  0.73016143, -0.17337266, -0.07548102]])"
      ]
     },
     "execution_count": 63,
     "metadata": {},
     "output_type": "execute_result"
    }
   ],
   "source": [
    "pca = PCA(n_components=2)\n",
    "components = pca.fit_transform(data)\n",
    "pca_recon = pca.inverse_transform(components)\n",
    "pd.DataFrame(pca_recon)\n",
    "pca.components_"
   ]
  }
 ],
 "metadata": {
  "kernelspec": {
   "display_name": "Python 3",
   "language": "python",
   "name": "python3"
  },
  "language_info": {
   "codemirror_mode": {
    "name": "ipython",
    "version": 3
   },
   "file_extension": ".py",
   "mimetype": "text/x-python",
   "name": "python",
   "nbconvert_exporter": "python",
   "pygments_lexer": "ipython3",
   "version": "3.6.4"
  }
 },
 "nbformat": 4,
 "nbformat_minor": 2
}
